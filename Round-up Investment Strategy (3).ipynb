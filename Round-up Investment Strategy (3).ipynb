{
 "cells": [
  {
   "cell_type": "markdown",
   "id": "5bb8a2e2",
   "metadata": {},
   "source": [
    "# Importing the Libraries"
   ]
  },
  {
   "cell_type": "code",
   "execution_count": null,
   "id": "d930816a",
   "metadata": {},
   "outputs": [],
   "source": [
    "import pandas as pd\n",
    "import math\n",
    "import matplotlib.pyplot as plt\n",
    "import yfinance as yf\n",
    "from datetime import datetime"
   ]
  },
  {
   "cell_type": "markdown",
   "id": "0e505a89",
   "metadata": {},
   "source": [
    "# Loading the data"
   ]
  },
  {
   "cell_type": "code",
   "execution_count": null,
   "id": "c60d5a9b",
   "metadata": {},
   "outputs": [],
   "source": [
    "data = pd.read_csv('Daily Household Transactions.csv')"
   ]
  },
  {
   "cell_type": "code",
   "execution_count": null,
   "id": "e665e9c2",
   "metadata": {},
   "outputs": [],
   "source": [
    "data.head()"
   ]
  },
  {
   "cell_type": "code",
   "execution_count": null,
   "id": "8c1b0174",
   "metadata": {},
   "outputs": [],
   "source": [
    "data.shape"
   ]
  },
  {
   "cell_type": "markdown",
   "id": "1c788813",
   "metadata": {},
   "source": [
    "# Data-Preprocessing"
   ]
  },
  {
   "cell_type": "code",
   "execution_count": null,
   "id": "8f219551",
   "metadata": {},
   "outputs": [],
   "source": [
    "def ceil_to_nearest_tens(amount):\n",
    "    return math.ceil(amount / 10) * 10\n",
    "\n",
    "# Apply the function to the 'Amount' column\n",
    "data['Rounded_to_Tens'] = data['Amount'].apply(ceil_to_nearest_tens)"
   ]
  },
  {
   "cell_type": "code",
   "execution_count": null,
   "id": "fc356e51",
   "metadata": {},
   "outputs": [],
   "source": [
    "data.head()"
   ]
  },
  {
   "cell_type": "code",
   "execution_count": null,
   "id": "0a11cef5",
   "metadata": {},
   "outputs": [],
   "source": [
    "data['Extra_from_Exp'] = data['Rounded_to_Tens'] - data['Amount']"
   ]
  },
  {
   "cell_type": "code",
   "execution_count": null,
   "id": "f1a124ea",
   "metadata": {},
   "outputs": [],
   "source": [
    "data.head()"
   ]
  },
  {
   "cell_type": "code",
   "execution_count": null,
   "id": "3d215249",
   "metadata": {},
   "outputs": [],
   "source": [
    "data.tail()"
   ]
  },
  {
   "cell_type": "code",
   "execution_count": null,
   "id": "ea76b574",
   "metadata": {},
   "outputs": [],
   "source": [
    "data.isnull().sum()"
   ]
  },
  {
   "cell_type": "code",
   "execution_count": null,
   "id": "537058cb",
   "metadata": {},
   "outputs": [],
   "source": [
    "data['Subcategory'].fillna('NA', inplace = True)\n",
    "data['Note'].fillna('NA', inplace = True)"
   ]
  },
  {
   "cell_type": "code",
   "execution_count": null,
   "id": "ea3bdc9a",
   "metadata": {},
   "outputs": [],
   "source": [
    "data.isnull().sum()"
   ]
  },
  {
   "cell_type": "code",
   "execution_count": null,
   "id": "77c8ff85",
   "metadata": {},
   "outputs": [],
   "source": [
    "data['Date'] = pd.to_datetime(data['Date'], dayfirst=True, errors='coerce')\n",
    "\n",
    "data['Date_only'] = data['Date'].dt.date\n",
    "\n",
    "# Group by the date and sum the 'Extra_from_Exp'\n",
    "result = data.groupby('Date_only')['Extra_from_Exp'].sum().reset_index()\n",
    "\n",
    "# Rename the columns for clarity\n",
    "result.columns = ['Date', 'Total_Extra_from_Exp_Daywise']\n",
    "\n",
    "result"
   ]
  },
  {
   "cell_type": "code",
   "execution_count": null,
   "id": "cf7aa3ff",
   "metadata": {},
   "outputs": [],
   "source": [
    "df = pd.DataFrame(result)\n",
    "df"
   ]
  },
  {
   "cell_type": "markdown",
   "id": "82e5c813",
   "metadata": {},
   "source": [
    "# Integrating the API"
   ]
  },
  {
   "cell_type": "code",
   "execution_count": null,
   "id": "4d1821da",
   "metadata": {},
   "outputs": [],
   "source": [
    "# Define a list of stock symbols to analyze\n",
    "stocks = ['AAPL', 'MSFT', 'GOOG', 'AMZN', 'TSLA']  # Example list, replace with your desired symbols\n",
    "\n",
    "# Create a DataFrame to store CAGR values for each stock\n",
    "cagr_data = {'Symbol': [], 'CAGR': []}\n",
    "\n",
    "# Loop through each stock symbol\n",
    "for symbol in stocks:\n",
    "    # Download historical data\n",
    "    data = yf.download(symbol, start='2017-01-01', end='2018-09-20', progress=False)\n",
    "    \n",
    "    # Calculate CAGR\n",
    "    start_price = data['Adj Close'].iloc[0]\n",
    "    end_price = data['Adj Close'].iloc[-1]\n",
    "    num_years = len(data) / 252  # Assuming 252 trading days in a year\n",
    "    cagr = ((end_price / start_price) ** (1 / num_years)) - 1\n",
    "    \n",
    "    # Append symbol and CAGR to DataFrame\n",
    "    cagr_data['Symbol'].append(symbol)\n",
    "    cagr_data['CAGR'].append(cagr)\n",
    "\n",
    "# Convert the dictionary to a DataFrame\n",
    "cagr_df = pd.DataFrame(cagr_data)\n",
    "\n",
    "# Round off the CAGR values to two decimal places\n",
    "cagr_df['CAGR'] = cagr_df['CAGR'].round(2)\n",
    "\n",
    "# Sort DataFrame by CAGR in descending order\n",
    "cagr_df = cagr_df.sort_values(by='CAGR', ascending=False)\n",
    "\n",
    "# Display the top stocks with the highest CAGR\n",
    "print(\"Top stocks with the highest CAGR:\")\n",
    "cagr_df"
   ]
  },
  {
   "cell_type": "code",
   "execution_count": null,
   "id": "244e8cf5",
   "metadata": {},
   "outputs": [],
   "source": [
    "# Convert the 'Date' column to datetime format and handle errors\n",
    "df['Date'] = pd.to_datetime(df['Date'], errors='coerce')\n",
    "\n",
    "# Drop rows where 'Date' could not be parsed\n",
    "df = df.dropna(subset=['Date'])\n",
    "\n",
    "# Fetch historical stock price data for a symbol\n",
    "symbol = 'AMZN'  # Example stock symbol, replace with your SIP or stock symbol\n",
    "stock_data = yf.download(symbol, start='2015-01-13', end='2018-09-20', progress=False)\n",
    "\n",
    "# Ensure the stock_data index is in datetime format\n",
    "stock_data.index = pd.to_datetime(stock_data.index)\n",
    "\n",
    "# Reset the index to make Date a column in stock_data and rename it\n",
    "stock_data.reset_index(inplace=True)\n",
    "stock_data.rename(columns={'Date': 'Date_Stock'}, inplace=True)\n",
    "\n",
    "# Remove time component from 'Date' columns\n",
    "df['Date'] = df['Date'].dt.floor('D')\n",
    "stock_data['Date_Stock'] = stock_data['Date_Stock'].dt.floor('D')\n",
    "\n",
    "# Merge on the date columns\n",
    "merged_data = pd.merge(df, stock_data, left_on='Date', right_on='Date_Stock', how='left', suffixes=('_exp', '_stock'))\n",
    "\n",
    "# Display the merged data\n",
    "merged_data"
   ]
  },
  {
   "cell_type": "code",
   "execution_count": null,
   "id": "10c67752",
   "metadata": {
    "scrolled": true
   },
   "outputs": [],
   "source": [
    "# Fill NaN values in numerical columns with the mean of each column\n",
    "merged_data[['Open', 'High', 'Low', 'Close', 'Adj Close', 'Volume']] = merged_data[['Open', 'High', 'Low', 'Close', 'Adj Close', 'Volume']].fillna(merged_data[['Open', 'High', 'Low', 'Close', 'Adj Close', 'Volume']].mean())\n",
    "\n",
    "# Forward fill NaN values in other columns\n",
    "merged_data.fillna(method='ffill', inplace=True)\n",
    "\n",
    "# Drop rows with NaT values in 'Date_Stock' column\n",
    "merged_data = merged_data.dropna(subset=['Date_Stock'])\n",
    "\n",
    "# Print the cleaned DataFrame\n",
    "print(merged_data)"
   ]
  },
  {
   "cell_type": "code",
   "execution_count": null,
   "id": "851d04df",
   "metadata": {},
   "outputs": [],
   "source": [
    "dataframe = pd.DataFrame(merged_data)\n",
    "dataframe"
   ]
  },
  {
   "cell_type": "code",
   "execution_count": null,
   "id": "f364f34e",
   "metadata": {},
   "outputs": [],
   "source": [
    "def calculate_sip_returns(df):\n",
    "    df['Investment'] = df['Total_Extra_from_Exp_Daywise']\n",
    "    df['Cumulative_Investment'] = df['Investment'].cumsum()\n",
    "    \n",
    "    # Calculate daily returns based on adjusted closing price\n",
    "    df['Daily_Returns'] = df['Adj Close'].pct_change().fillna(0)\n",
    "    \n",
    "    # Calculate cumulative returns\n",
    "    df['Cumulative_Returns'] = (df['Daily_Returns'] + 1).cumprod() * df['Cumulative_Investment']\n",
    "    \n",
    "    return df\n",
    "\n",
    "# Assuming merged_data is your DataFrame\n",
    "returns = calculate_sip_returns(merged_data)\n",
    "\n",
    "returns = returns.reset_index(drop=True)\n",
    "returns.index += 1"
   ]
  },
  {
   "cell_type": "code",
   "execution_count": null,
   "id": "7e759ec0",
   "metadata": {},
   "outputs": [],
   "source": [
    "# Printing the Investment and Returns\n",
    "returns[['Investment', 'Date', 'Cumulative_Investment', 'Daily_Returns', 'Cumulative_Returns']]"
   ]
  },
  {
   "cell_type": "code",
   "execution_count": null,
   "id": "60aa6356",
   "metadata": {},
   "outputs": [],
   "source": [
    "# Calculate total amount invested\n",
    "total_invested = merged_data['Cumulative_Investment'].iloc[-1]\n",
    "\n",
    "# Calculate total returns\n",
    "total_returns = round(merged_data['Cumulative_Returns'].iloc[-1], 2)\n",
    "\n",
    "# Calculate difference between total returns and total invested\n",
    "difference = round(total_returns - total_invested, 2)\n",
    "\n",
    "# Calculate percentage returns\n",
    "percentage_returns = round((difference / total_invested) * 100, 2)\n",
    "\n",
    "print(\"Total amount invested:\", total_invested)\n",
    "print(\"Total returns:\", total_returns)\n",
    "print(\"Difference:\", difference)\n",
    "print(\"Percentage returns:\", percentage_returns, \"%\")"
   ]
  },
  {
   "cell_type": "code",
   "execution_count": null,
   "id": "53235435",
   "metadata": {},
   "outputs": [],
   "source": [
    "# Plot the results\n",
    "plt.figure(figsize=(14, 7))\n",
    "plt.plot(returns.index, returns['Cumulative_Investment'], label='Cumulative Investment')\n",
    "plt.plot(returns.index, returns['Cumulative_Returns'], label='Cumulative Returns')\n",
    "plt.xlabel('Days')\n",
    "plt.ylabel('Amount')\n",
    "plt.title('SIP Returns vs. Cumulative Investment')\n",
    "plt.legend()\n",
    "plt.show()"
   ]
  },
  {
   "cell_type": "code",
   "execution_count": null,
   "id": "c78e1b7e",
   "metadata": {},
   "outputs": [],
   "source": [
    "num_years = (returns['Date'].max() - returns['Date'].min()).days / 365.25\n",
    "annualized_return = (total_returns / total_invested) ** (1 / num_years) - 1\n",
    "print(f\"Annualized Return: {annualized_return:.2%}\")"
   ]
  },
  {
   "cell_type": "code",
   "execution_count": null,
   "id": "497ea632",
   "metadata": {},
   "outputs": [],
   "source": [
    "monthly_returns = returns.resample('M', on='Date').last()\n",
    "monthly_returns['Monthly_Investment'] = returns.resample('M', on='Date')['Investment'].sum().cumsum()\n",
    "monthly_returns[['Monthly_Investment', 'Cumulative_Returns']].plot(figsize=(10, 6))\n",
    "plt.title('Monthly SIP Investment and Returns')\n",
    "plt.xlabel('Date')\n",
    "plt.ylabel('Amount (INR)')\n",
    "plt.grid(True)\n",
    "plt.show()"
   ]
  },
  {
   "cell_type": "code",
   "execution_count": null,
   "id": "34481558",
   "metadata": {},
   "outputs": [],
   "source": [
    "daily_volatility = returns['Daily_Returns'].std()\n",
    "annual_volatility = daily_volatility * math.sqrt(252)\n",
    "print(f\"Annual Volatility: {annual_volatility:.2%}\")\n"
   ]
  },
  {
   "cell_type": "code",
   "execution_count": null,
   "id": "1fce6e80",
   "metadata": {},
   "outputs": [],
   "source": [
    "market_index = yf.download('^NSEI', start='2015-01-13', end='2018-09-20', progress=False)  # NIFTY 50\n",
    "market_index['Cumulative_Market_Returns'] = (market_index['Adj Close'].pct_change().fillna(0) + 1).cumprod()\n",
    "market_index = market_index[['Adj Close', 'Cumulative_Market_Returns']].rename(columns={'Adj Close': 'Market_Close'})\n",
    "\n",
    "merged_data = merged_data.merge(market_index, left_on='Date', right_index=True, how='left')\n",
    "\n",
    "plt.figure(figsize=(10, 6))\n",
    "plt.plot(merged_data['Date'], merged_data['Cumulative_Returns'], label='SIP Returns')\n",
    "plt.plot(merged_data['Date'], merged_data['Cumulative_Market_Returns'] * total_invested, label='Market Returns')\n",
    "plt.xlabel('Date')\n",
    "plt.ylabel('Amount (INR)')\n",
    "plt.title('SIP Returns vs. Market Returns')\n",
    "plt.legend()\n",
    "plt.grid(True)\n",
    "plt.show()"
   ]
  },
  {
   "cell_type": "code",
   "execution_count": null,
   "id": "e65529b5",
   "metadata": {},
   "outputs": [],
   "source": [
    "def simulate_sip(amount):\n",
    "    returns['Investment'] = returns['Total_Extra_from_Exp_Daywise'] * amount\n",
    "    returns['Cumulative_Investment'] = returns['Investment'].cumsum()\n",
    "    returns['Cumulative_Returns'] = (returns['Daily_Returns'] + 1).cumprod() * returns['Cumulative_Investment']\n",
    "    return returns\n",
    "\n",
    "# Example: Simulate with different SIP amounts\n",
    "for amount in [0.5, 1, 2]:  # 50%, 100%, and 200% of the original SIP amount\n",
    "    simulation = simulate_sip(amount)\n",
    "    plt.plot(simulation['Date'], simulation['Cumulative_Returns'], label=f'SIP Amount x{amount}')\n",
    "\n",
    "plt.xlabel('Date')\n",
    "plt.ylabel('Amount (INR)')\n",
    "plt.title('SIP Returns with Different SIP Amounts')\n",
    "plt.legend()\n",
    "plt.grid(True)\n",
    "plt.show()"
   ]
  },
  {
   "cell_type": "code",
   "execution_count": null,
   "id": "9b426a4a",
   "metadata": {},
   "outputs": [],
   "source": [
    "import plotly.express as px\n",
    "\n",
    "fig = px.line(returns, x='Date', y=['Cumulative_Investment', 'Cumulative_Returns'], labels={'value': 'Amount (INR)'}, title='Projected SIP Returns from Daily Extra Expenditure (Real-Time)')\n",
    "fig.show()"
   ]
  },
  {
   "cell_type": "code",
   "execution_count": null,
   "id": "b3e0dd02",
   "metadata": {},
   "outputs": [],
   "source": []
  },
  {
   "cell_type": "code",
   "execution_count": null,
   "id": "d07b0236",
   "metadata": {},
   "outputs": [],
   "source": []
  }
 ],
 "metadata": {
  "kernelspec": {
   "display_name": "Python 3 (ipykernel)",
   "language": "python",
   "name": "python3"
  },
  "language_info": {
   "codemirror_mode": {
    "name": "ipython",
    "version": 3
   },
   "file_extension": ".py",
   "mimetype": "text/x-python",
   "name": "python",
   "nbconvert_exporter": "python",
   "pygments_lexer": "ipython3",
   "version": "3.11.5"
  }
 },
 "nbformat": 4,
 "nbformat_minor": 5
}
